{
  "cells": [
    {
      "cell_type": "code",
      "execution_count": null,
      "metadata": {
        "id": "8lXKgo-Ydp5G"
      },
      "outputs": [],
      "source": [
        "# pip install wandb"
      ]
    },
    {
      "cell_type": "code",
      "execution_count": 1,
      "metadata": {
        "id": "s3wYq6yD0p-I"
      },
      "outputs": [],
      "source": [
        "import torch\n",
        "import torch.nn as nn\n",
        "import torch.nn.functional as F\n",
        "import numpy as np\n",
        "\n",
        "import wandb\n",
        "\n",
        "from torch.autograd import Variable\n",
        "from torchvision.models import resnet18, swin_v2_t\n",
        "\n",
        "from torchvision import datasets, transforms\n",
        "from torch.utils.data import DataLoader\n",
        "from torchvision.datasets import ImageFolder\n",
        "\n",
        "import PIL\n",
        "import torch\n",
        "import torchvision\n",
        "\n",
        "import matplotlib.pyplot as plt\n",
        "from sklearn import metrics\n",
        "import tqdm\n",
        "import json\n",
        "\n",
        "import os"
      ]
    },
    {
      "cell_type": "code",
      "execution_count": 2,
      "metadata": {
        "id": "ZLfYqUMz1NhF"
      },
      "outputs": [],
      "source": [
        "from PIL import Image\n",
        "from sklearn import (manifold, datasets, decomposition, ensemble,\n",
        "                     discriminant_analysis, random_projection)\n",
        "import torchvision.transforms.functional as Function\n",
        "from IPython.display import display\n",
        "from time import time\n",
        "from matplotlib import offsetbox\n",
        "from sklearn.neighbors import DistanceMetric\n",
        "%matplotlib inline\n",
        "\n",
        "from sklearn.metrics import precision_score, recall_score, f1_score, accuracy_score\n",
        "\n",
        "device = \"cuda\" if torch.cuda.is_available() else \"cpu\""
      ]
    },
    {
      "cell_type": "code",
      "execution_count": 3,
      "metadata": {
        "id": "tAxYdvJ_9k56"
      },
      "outputs": [],
      "source": [
        "# !rm -rf -r /content/dataset/__MACOSX"
      ]
    },
    {
      "cell_type": "code",
      "execution_count": 4,
      "metadata": {
        "id": "2QgohjFg1QHX"
      },
      "outputs": [],
      "source": [
        "def soft_max(array):\n",
        "    return nn.Softmax(dim=1)(array)\n",
        "\n",
        "class EmbedNet(nn.Module):\n",
        "    def __init__(self, base_model, out_dim):\n",
        "        super(EmbedNet, self).__init__()\n",
        "        self.base_model = base_model\n",
        "        self.base_model.fc = torch.nn.Linear(base_model.fc.in_features, 512)\n",
        "        self.fc1 = torch.nn.Linear(512, 512)\n",
        "        self.fc2 = torch.nn.Linear(512, 256)\n",
        "        self.fc3 = torch.nn.Linear(256, out_dim)\n",
        "\n",
        "    def forward(self, x):\n",
        "        x = self.base_model(x)\n",
        "        x = self.fc1(F.normalize(x))\n",
        "        x = self.fc2(F.normalize(x))\n",
        "        x = self.fc3(F.normalize(x))\n",
        "        return soft_max(F.normalize(x))"
      ]
    },
    {
      "cell_type": "code",
      "execution_count": 5,
      "metadata": {
        "id": "KhIjBrKE2CBT"
      },
      "outputs": [],
      "source": [
        "data_dir = './data'\n",
        "\n",
        "# Преобразования для изображений\n",
        "transform = transforms.Compose([\n",
        "    transforms.RandomHorizontalFlip(),  # Случайное отражение по горизонтали\n",
        "    transforms.RandomRotation(10),  # Случайное вращение на угол до 10 градусов\n",
        "    transforms.ColorJitter(brightness=0.2, contrast=0.2, saturation=0.2, hue=0.1),  # Изменение яркости, контраста, насыщенности и оттенка\n",
        "    transforms.RandomResizedCrop(224),  # Случайное изменение размера и обрезка изображения до 224x224\n",
        "    transforms.ToTensor()\n",
        "])\n",
        "\n",
        "# Создание датасета из папки с изображениями\n",
        "dataset = ImageFolder(root=data_dir, transform=transform)\n",
        "\n",
        "# Разделение на тренировочный и тестовый наборы данных\n",
        "train_size = int(0.8 * len(dataset))\n",
        "test_size = len(dataset) - train_size\n",
        "train_dataset, test_dataset = torch.utils.data.random_split(dataset, [train_size, test_size])\n",
        "\n",
        "batch_size = 128\n",
        "# Создание DataLoader для тренировочного и тестового наборов данных\n",
        "train_loader = DataLoader(train_dataset, batch_size=batch_size, shuffle=True)\n",
        "test_loader = DataLoader(test_dataset, batch_size=batch_size, shuffle=False)\n",
        "\n",
        "class_to_idx = dataset.class_to_idx\n",
        "idx_to_class = dict(zip(class_to_idx.values(), class_to_idx.keys()))"
      ]
    },
    {
      "cell_type": "code",
      "execution_count": 6,
      "metadata": {
        "colab": {
          "base_uri": "https://localhost:8080/"
        },
        "id": "w6JSAA_U-wsp",
        "outputId": "b51dcf32-22bc-4d4a-f086-69e476526c58"
      },
      "outputs": [
        {
          "name": "stderr",
          "output_type": "stream",
          "text": [
            "/opt/homebrew/lib/python3.11/site-packages/torchvision/models/_utils.py:208: UserWarning: The parameter 'pretrained' is deprecated since 0.13 and may be removed in the future, please use 'weights' instead.\n",
            "  warnings.warn(\n",
            "/opt/homebrew/lib/python3.11/site-packages/torchvision/models/_utils.py:223: UserWarning: Arguments other than a weight enum or `None` for 'weights' are deprecated since 0.13 and may be removed in the future. The current behavior is equivalent to passing `weights=ResNet18_Weights.IMAGENET1K_V1`. You can also use `weights=ResNet18_Weights.DEFAULT` to get the most up-to-date weights.\n",
            "  warnings.warn(msg)\n"
          ]
        }
      ],
      "source": [
        "# Discard layers at the end of base network\n",
        "encoder = resnet18(pretrained=True)\n",
        "\n",
        "out_dim = 7\n",
        "\n",
        "lr = 0.001\n",
        "\n",
        "model = EmbedNet(encoder, out_dim).to(device)\n",
        "\n",
        "criterion = nn.CrossEntropyLoss()\n",
        "optimizer = torch.optim.Adam(model.parameters(), lr=lr)"
      ]
    },
    {
      "cell_type": "code",
      "execution_count": 7,
      "metadata": {
        "id": "s9z-cByysBav"
      },
      "outputs": [],
      "source": [
        "def save_model(model, path):\n",
        "    torch.save(model.state_dict(), path)"
      ]
    },
    {
      "cell_type": "code",
      "execution_count": 9,
      "metadata": {},
      "outputs": [],
      "source": [
        "from tqdm import tqdm_notebook"
      ]
    },
    {
      "cell_type": "code",
      "execution_count": 10,
      "metadata": {
        "colab": {
          "base_uri": "https://localhost:8080/",
          "height": 1000,
          "referenced_widgets": [
            "dff3af19c9684a7aad296f0ca020f299",
            "fd41b1446819442ba7028f521650fa00",
            "c5071a3c90424832bf090ac57afcb710",
            "6429a4fc10a343a18758aafd642d53a8",
            "61fc9c3719b84e10a2eb100dff72f5b6",
            "8be5a9a4678f44fd90f7ddb3f6596acd",
            "fc20fa190a97437da1dc19681eaa7f07",
            "e8679b954d1542deb40c116a9a83cc6e"
          ]
        },
        "id": "GRIN8HmLAF2Q",
        "outputId": "a9043c01-c327-4232-d423-a042a443ba4f"
      },
      "outputs": [
        {
          "name": "stderr",
          "output_type": "stream",
          "text": [
            "/var/folders/qn/wj4_7b6s15b8h1mjnbzrfwyryqk4j8/T/ipykernel_78837/3365982749.py:22: TqdmDeprecationWarning: This function will be removed in tqdm==5.0.0\n",
            "Please use `tqdm.notebook.tqdm` instead of `tqdm.tqdm_notebook`\n",
            "  for images, labels in tqdm_notebook(train_loader):\n"
          ]
        },
        {
          "data": {
            "application/vnd.jupyter.widget-view+json": {
              "model_id": "31327698b2b348aab85f393ccfaccea2",
              "version_major": 2,
              "version_minor": 0
            },
            "text/plain": [
              "  0%|          | 0/4 [00:00<?, ?it/s]"
            ]
          },
          "metadata": {},
          "output_type": "display_data"
        },
        {
          "name": "stdout",
          "output_type": "stream",
          "text": [
            "Epoch 1/80, Loss: 1.8630971908569336\n",
            "Precision: 0.12\n",
            "Recall: 0.17\n",
            "F1-score: 0.06\n",
            "Accuracy: 0.17\n"
          ]
        },
        {
          "name": "stderr",
          "output_type": "stream",
          "text": [
            "/opt/homebrew/lib/python3.11/site-packages/sklearn/metrics/_classification.py:1344: UndefinedMetricWarning: Precision is ill-defined and being set to 0.0 in labels with no predicted samples. Use `zero_division` parameter to control this behavior.\n",
            "  _warn_prf(average, modifier, msg_start, len(result))\n",
            "/var/folders/qn/wj4_7b6s15b8h1mjnbzrfwyryqk4j8/T/ipykernel_78837/3365982749.py:22: TqdmDeprecationWarning: This function will be removed in tqdm==5.0.0\n",
            "Please use `tqdm.notebook.tqdm` instead of `tqdm.tqdm_notebook`\n",
            "  for images, labels in tqdm_notebook(train_loader):\n"
          ]
        },
        {
          "data": {
            "application/vnd.jupyter.widget-view+json": {
              "model_id": "48ad6c0f9d6643758e6e12e6ffd3e2c5",
              "version_major": 2,
              "version_minor": 0
            },
            "text/plain": [
              "  0%|          | 0/4 [00:00<?, ?it/s]"
            ]
          },
          "metadata": {},
          "output_type": "display_data"
        },
        {
          "name": "stdout",
          "output_type": "stream",
          "text": [
            "Epoch 2/80, Loss: 1.8237557411193848\n",
            "Precision: 0.25\n",
            "Recall: 0.17\n",
            "F1-score: 0.07\n",
            "Accuracy: 0.17\n"
          ]
        },
        {
          "name": "stderr",
          "output_type": "stream",
          "text": [
            "/opt/homebrew/lib/python3.11/site-packages/sklearn/metrics/_classification.py:1344: UndefinedMetricWarning: Precision is ill-defined and being set to 0.0 in labels with no predicted samples. Use `zero_division` parameter to control this behavior.\n",
            "  _warn_prf(average, modifier, msg_start, len(result))\n",
            "/var/folders/qn/wj4_7b6s15b8h1mjnbzrfwyryqk4j8/T/ipykernel_78837/3365982749.py:22: TqdmDeprecationWarning: This function will be removed in tqdm==5.0.0\n",
            "Please use `tqdm.notebook.tqdm` instead of `tqdm.tqdm_notebook`\n",
            "  for images, labels in tqdm_notebook(train_loader):\n"
          ]
        },
        {
          "data": {
            "application/vnd.jupyter.widget-view+json": {
              "model_id": "8d888281c2fd4f25a76ebbdffd58e5a5",
              "version_major": 2,
              "version_minor": 0
            },
            "text/plain": [
              "  0%|          | 0/4 [00:00<?, ?it/s]"
            ]
          },
          "metadata": {},
          "output_type": "display_data"
        },
        {
          "name": "stdout",
          "output_type": "stream",
          "text": [
            "Epoch 3/80, Loss: 1.8028260469436646\n",
            "Precision: 0.75\n",
            "Recall: 0.67\n",
            "F1-score: 0.67\n",
            "Accuracy: 0.67\n"
          ]
        },
        {
          "name": "stderr",
          "output_type": "stream",
          "text": [
            "/var/folders/qn/wj4_7b6s15b8h1mjnbzrfwyryqk4j8/T/ipykernel_78837/3365982749.py:22: TqdmDeprecationWarning: This function will be removed in tqdm==5.0.0\n",
            "Please use `tqdm.notebook.tqdm` instead of `tqdm.tqdm_notebook`\n",
            "  for images, labels in tqdm_notebook(train_loader):\n"
          ]
        },
        {
          "data": {
            "application/vnd.jupyter.widget-view+json": {
              "model_id": "7e0228c7f32c4c1292afc1d8336e2637",
              "version_major": 2,
              "version_minor": 0
            },
            "text/plain": [
              "  0%|          | 0/4 [00:00<?, ?it/s]"
            ]
          },
          "metadata": {},
          "output_type": "display_data"
        },
        {
          "name": "stdout",
          "output_type": "stream",
          "text": [
            "Epoch 4/80, Loss: 1.8025482892990112\n",
            "Precision: 0.83\n",
            "Recall: 0.43\n",
            "F1-score: 0.43\n",
            "Accuracy: 0.43\n"
          ]
        },
        {
          "name": "stderr",
          "output_type": "stream",
          "text": [
            "/var/folders/qn/wj4_7b6s15b8h1mjnbzrfwyryqk4j8/T/ipykernel_78837/3365982749.py:22: TqdmDeprecationWarning: This function will be removed in tqdm==5.0.0\n",
            "Please use `tqdm.notebook.tqdm` instead of `tqdm.tqdm_notebook`\n",
            "  for images, labels in tqdm_notebook(train_loader):\n"
          ]
        },
        {
          "data": {
            "application/vnd.jupyter.widget-view+json": {
              "model_id": "bee82d6d67664f9d80209e6f1a11e748",
              "version_major": 2,
              "version_minor": 0
            },
            "text/plain": [
              "  0%|          | 0/4 [00:00<?, ?it/s]"
            ]
          },
          "metadata": {},
          "output_type": "display_data"
        },
        {
          "name": "stdout",
          "output_type": "stream",
          "text": [
            "Epoch 5/80, Loss: 1.7891885042190552\n",
            "Precision: 0.82\n",
            "Recall: 0.73\n",
            "F1-score: 0.73\n",
            "Accuracy: 0.73\n"
          ]
        },
        {
          "name": "stderr",
          "output_type": "stream",
          "text": [
            "/var/folders/qn/wj4_7b6s15b8h1mjnbzrfwyryqk4j8/T/ipykernel_78837/3365982749.py:22: TqdmDeprecationWarning: This function will be removed in tqdm==5.0.0\n",
            "Please use `tqdm.notebook.tqdm` instead of `tqdm.tqdm_notebook`\n",
            "  for images, labels in tqdm_notebook(train_loader):\n"
          ]
        },
        {
          "data": {
            "application/vnd.jupyter.widget-view+json": {
              "model_id": "3a99912cb16b4bd6aa55dc8fe9e0ab1f",
              "version_major": 2,
              "version_minor": 0
            },
            "text/plain": [
              "  0%|          | 0/4 [00:00<?, ?it/s]"
            ]
          },
          "metadata": {},
          "output_type": "display_data"
        },
        {
          "name": "stdout",
          "output_type": "stream",
          "text": [
            "Epoch 6/80, Loss: 1.7822545766830444\n",
            "Precision: 0.75\n",
            "Recall: 0.54\n",
            "F1-score: 0.50\n",
            "Accuracy: 0.54\n"
          ]
        },
        {
          "name": "stderr",
          "output_type": "stream",
          "text": [
            "/var/folders/qn/wj4_7b6s15b8h1mjnbzrfwyryqk4j8/T/ipykernel_78837/3365982749.py:22: TqdmDeprecationWarning: This function will be removed in tqdm==5.0.0\n",
            "Please use `tqdm.notebook.tqdm` instead of `tqdm.tqdm_notebook`\n",
            "  for images, labels in tqdm_notebook(train_loader):\n"
          ]
        },
        {
          "data": {
            "application/vnd.jupyter.widget-view+json": {
              "model_id": "792a7cfae52a4948ae9b9156b2ee213f",
              "version_major": 2,
              "version_minor": 0
            },
            "text/plain": [
              "  0%|          | 0/4 [00:00<?, ?it/s]"
            ]
          },
          "metadata": {},
          "output_type": "display_data"
        },
        {
          "name": "stdout",
          "output_type": "stream",
          "text": [
            "Epoch 7/80, Loss: 1.7819074392318726\n",
            "Precision: 0.80\n",
            "Recall: 0.69\n",
            "F1-score: 0.66\n",
            "Accuracy: 0.69\n"
          ]
        },
        {
          "name": "stderr",
          "output_type": "stream",
          "text": [
            "/var/folders/qn/wj4_7b6s15b8h1mjnbzrfwyryqk4j8/T/ipykernel_78837/3365982749.py:22: TqdmDeprecationWarning: This function will be removed in tqdm==5.0.0\n",
            "Please use `tqdm.notebook.tqdm` instead of `tqdm.tqdm_notebook`\n",
            "  for images, labels in tqdm_notebook(train_loader):\n"
          ]
        },
        {
          "data": {
            "application/vnd.jupyter.widget-view+json": {
              "model_id": "88048c718740405297d4f3d10cc5de13",
              "version_major": 2,
              "version_minor": 0
            },
            "text/plain": [
              "  0%|          | 0/4 [00:00<?, ?it/s]"
            ]
          },
          "metadata": {},
          "output_type": "display_data"
        },
        {
          "name": "stdout",
          "output_type": "stream",
          "text": [
            "Epoch 8/80, Loss: 1.7892736196517944\n",
            "Precision: 0.75\n",
            "Recall: 0.69\n",
            "F1-score: 0.68\n",
            "Accuracy: 0.69\n"
          ]
        },
        {
          "name": "stderr",
          "output_type": "stream",
          "text": [
            "/var/folders/qn/wj4_7b6s15b8h1mjnbzrfwyryqk4j8/T/ipykernel_78837/3365982749.py:22: TqdmDeprecationWarning: This function will be removed in tqdm==5.0.0\n",
            "Please use `tqdm.notebook.tqdm` instead of `tqdm.tqdm_notebook`\n",
            "  for images, labels in tqdm_notebook(train_loader):\n"
          ]
        },
        {
          "data": {
            "application/vnd.jupyter.widget-view+json": {
              "model_id": "885e7b76f7254aa2874ee93264d8410a",
              "version_major": 2,
              "version_minor": 0
            },
            "text/plain": [
              "  0%|          | 0/4 [00:00<?, ?it/s]"
            ]
          },
          "metadata": {},
          "output_type": "display_data"
        },
        {
          "name": "stdout",
          "output_type": "stream",
          "text": [
            "Epoch 9/80, Loss: 1.7955609560012817\n",
            "Precision: 0.81\n",
            "Recall: 0.78\n",
            "F1-score: 0.78\n",
            "Accuracy: 0.78\n"
          ]
        },
        {
          "name": "stderr",
          "output_type": "stream",
          "text": [
            "/var/folders/qn/wj4_7b6s15b8h1mjnbzrfwyryqk4j8/T/ipykernel_78837/3365982749.py:22: TqdmDeprecationWarning: This function will be removed in tqdm==5.0.0\n",
            "Please use `tqdm.notebook.tqdm` instead of `tqdm.tqdm_notebook`\n",
            "  for images, labels in tqdm_notebook(train_loader):\n"
          ]
        },
        {
          "data": {
            "application/vnd.jupyter.widget-view+json": {
              "model_id": "650dd238dc0543a28ec9828451b67545",
              "version_major": 2,
              "version_minor": 0
            },
            "text/plain": [
              "  0%|          | 0/4 [00:00<?, ?it/s]"
            ]
          },
          "metadata": {},
          "output_type": "display_data"
        },
        {
          "name": "stdout",
          "output_type": "stream",
          "text": [
            "Epoch 10/80, Loss: 1.7769966125488281\n",
            "Precision: 0.67\n",
            "Recall: 0.43\n",
            "F1-score: 0.42\n",
            "Accuracy: 0.43\n"
          ]
        },
        {
          "name": "stderr",
          "output_type": "stream",
          "text": [
            "/opt/homebrew/lib/python3.11/site-packages/sklearn/metrics/_classification.py:1344: UndefinedMetricWarning: Precision is ill-defined and being set to 0.0 in labels with no predicted samples. Use `zero_division` parameter to control this behavior.\n",
            "  _warn_prf(average, modifier, msg_start, len(result))\n",
            "/var/folders/qn/wj4_7b6s15b8h1mjnbzrfwyryqk4j8/T/ipykernel_78837/3365982749.py:22: TqdmDeprecationWarning: This function will be removed in tqdm==5.0.0\n",
            "Please use `tqdm.notebook.tqdm` instead of `tqdm.tqdm_notebook`\n",
            "  for images, labels in tqdm_notebook(train_loader):\n"
          ]
        },
        {
          "data": {
            "application/vnd.jupyter.widget-view+json": {
              "model_id": "a234a499e3464c8487cab13b541e16f8",
              "version_major": 2,
              "version_minor": 0
            },
            "text/plain": [
              "  0%|          | 0/4 [00:00<?, ?it/s]"
            ]
          },
          "metadata": {},
          "output_type": "display_data"
        },
        {
          "name": "stdout",
          "output_type": "stream",
          "text": [
            "Epoch 11/80, Loss: 1.7751200199127197\n",
            "Precision: 0.83\n",
            "Recall: 0.77\n",
            "F1-score: 0.78\n",
            "Accuracy: 0.77\n"
          ]
        },
        {
          "name": "stderr",
          "output_type": "stream",
          "text": [
            "/var/folders/qn/wj4_7b6s15b8h1mjnbzrfwyryqk4j8/T/ipykernel_78837/3365982749.py:22: TqdmDeprecationWarning: This function will be removed in tqdm==5.0.0\n",
            "Please use `tqdm.notebook.tqdm` instead of `tqdm.tqdm_notebook`\n",
            "  for images, labels in tqdm_notebook(train_loader):\n"
          ]
        },
        {
          "data": {
            "application/vnd.jupyter.widget-view+json": {
              "model_id": "29bd8a5fbdab451ab7f100f8e6a7f3de",
              "version_major": 2,
              "version_minor": 0
            },
            "text/plain": [
              "  0%|          | 0/4 [00:00<?, ?it/s]"
            ]
          },
          "metadata": {},
          "output_type": "display_data"
        },
        {
          "name": "stdout",
          "output_type": "stream",
          "text": [
            "Epoch 12/80, Loss: 1.778002381324768\n",
            "Precision: 0.77\n",
            "Recall: 0.73\n",
            "F1-score: 0.73\n",
            "Accuracy: 0.73\n"
          ]
        },
        {
          "name": "stderr",
          "output_type": "stream",
          "text": [
            "/var/folders/qn/wj4_7b6s15b8h1mjnbzrfwyryqk4j8/T/ipykernel_78837/3365982749.py:22: TqdmDeprecationWarning: This function will be removed in tqdm==5.0.0\n",
            "Please use `tqdm.notebook.tqdm` instead of `tqdm.tqdm_notebook`\n",
            "  for images, labels in tqdm_notebook(train_loader):\n"
          ]
        },
        {
          "data": {
            "application/vnd.jupyter.widget-view+json": {
              "model_id": "64e621d2d4ed40dcab15f0a6478fbc50",
              "version_major": 2,
              "version_minor": 0
            },
            "text/plain": [
              "  0%|          | 0/4 [00:00<?, ?it/s]"
            ]
          },
          "metadata": {},
          "output_type": "display_data"
        },
        {
          "name": "stdout",
          "output_type": "stream",
          "text": [
            "Epoch 13/80, Loss: 1.786521315574646\n",
            "Precision: 0.75\n",
            "Recall: 0.68\n",
            "F1-score: 0.69\n",
            "Accuracy: 0.68\n"
          ]
        },
        {
          "name": "stderr",
          "output_type": "stream",
          "text": [
            "/var/folders/qn/wj4_7b6s15b8h1mjnbzrfwyryqk4j8/T/ipykernel_78837/3365982749.py:22: TqdmDeprecationWarning: This function will be removed in tqdm==5.0.0\n",
            "Please use `tqdm.notebook.tqdm` instead of `tqdm.tqdm_notebook`\n",
            "  for images, labels in tqdm_notebook(train_loader):\n"
          ]
        },
        {
          "data": {
            "application/vnd.jupyter.widget-view+json": {
              "model_id": "9b5f3c870a5d4a6c98ba7e1ebc24136b",
              "version_major": 2,
              "version_minor": 0
            },
            "text/plain": [
              "  0%|          | 0/4 [00:00<?, ?it/s]"
            ]
          },
          "metadata": {},
          "output_type": "display_data"
        },
        {
          "name": "stdout",
          "output_type": "stream",
          "text": [
            "Epoch 14/80, Loss: 1.7805105447769165\n",
            "Precision: 0.91\n",
            "Recall: 0.88\n",
            "F1-score: 0.89\n",
            "Accuracy: 0.88\n"
          ]
        },
        {
          "name": "stderr",
          "output_type": "stream",
          "text": [
            "/var/folders/qn/wj4_7b6s15b8h1mjnbzrfwyryqk4j8/T/ipykernel_78837/3365982749.py:22: TqdmDeprecationWarning: This function will be removed in tqdm==5.0.0\n",
            "Please use `tqdm.notebook.tqdm` instead of `tqdm.tqdm_notebook`\n",
            "  for images, labels in tqdm_notebook(train_loader):\n"
          ]
        },
        {
          "data": {
            "application/vnd.jupyter.widget-view+json": {
              "model_id": "834eb4b6bc3b41b0aaa54ce4e82cf6d9",
              "version_major": 2,
              "version_minor": 0
            },
            "text/plain": [
              "  0%|          | 0/4 [00:00<?, ?it/s]"
            ]
          },
          "metadata": {},
          "output_type": "display_data"
        },
        {
          "name": "stdout",
          "output_type": "stream",
          "text": [
            "Epoch 15/80, Loss: 1.7782549858093262\n",
            "Precision: 0.76\n",
            "Recall: 0.59\n",
            "F1-score: 0.54\n",
            "Accuracy: 0.59\n"
          ]
        },
        {
          "name": "stderr",
          "output_type": "stream",
          "text": [
            "/var/folders/qn/wj4_7b6s15b8h1mjnbzrfwyryqk4j8/T/ipykernel_78837/3365982749.py:22: TqdmDeprecationWarning: This function will be removed in tqdm==5.0.0\n",
            "Please use `tqdm.notebook.tqdm` instead of `tqdm.tqdm_notebook`\n",
            "  for images, labels in tqdm_notebook(train_loader):\n"
          ]
        },
        {
          "data": {
            "application/vnd.jupyter.widget-view+json": {
              "model_id": "64027342c2374047a5747df94239073c",
              "version_major": 2,
              "version_minor": 0
            },
            "text/plain": [
              "  0%|          | 0/4 [00:00<?, ?it/s]"
            ]
          },
          "metadata": {},
          "output_type": "display_data"
        },
        {
          "name": "stdout",
          "output_type": "stream",
          "text": [
            "Epoch 16/80, Loss: 1.7878955602645874\n",
            "Precision: 0.68\n",
            "Recall: 0.69\n",
            "F1-score: 0.65\n",
            "Accuracy: 0.69\n"
          ]
        },
        {
          "name": "stderr",
          "output_type": "stream",
          "text": [
            "/var/folders/qn/wj4_7b6s15b8h1mjnbzrfwyryqk4j8/T/ipykernel_78837/3365982749.py:22: TqdmDeprecationWarning: This function will be removed in tqdm==5.0.0\n",
            "Please use `tqdm.notebook.tqdm` instead of `tqdm.tqdm_notebook`\n",
            "  for images, labels in tqdm_notebook(train_loader):\n"
          ]
        },
        {
          "data": {
            "application/vnd.jupyter.widget-view+json": {
              "model_id": "36f977d287514384b0035757fe63b317",
              "version_major": 2,
              "version_minor": 0
            },
            "text/plain": [
              "  0%|          | 0/4 [00:00<?, ?it/s]"
            ]
          },
          "metadata": {},
          "output_type": "display_data"
        },
        {
          "name": "stdout",
          "output_type": "stream",
          "text": [
            "Epoch 17/80, Loss: 1.783113718032837\n",
            "Precision: 0.83\n",
            "Recall: 0.66\n",
            "F1-score: 0.66\n",
            "Accuracy: 0.66\n"
          ]
        },
        {
          "name": "stderr",
          "output_type": "stream",
          "text": [
            "/var/folders/qn/wj4_7b6s15b8h1mjnbzrfwyryqk4j8/T/ipykernel_78837/3365982749.py:22: TqdmDeprecationWarning: This function will be removed in tqdm==5.0.0\n",
            "Please use `tqdm.notebook.tqdm` instead of `tqdm.tqdm_notebook`\n",
            "  for images, labels in tqdm_notebook(train_loader):\n"
          ]
        },
        {
          "data": {
            "application/vnd.jupyter.widget-view+json": {
              "model_id": "e8a8009f2f774c6386a096e345737312",
              "version_major": 2,
              "version_minor": 0
            },
            "text/plain": [
              "  0%|          | 0/4 [00:00<?, ?it/s]"
            ]
          },
          "metadata": {},
          "output_type": "display_data"
        },
        {
          "name": "stdout",
          "output_type": "stream",
          "text": [
            "Epoch 18/80, Loss: 1.7895444631576538\n",
            "Precision: 0.83\n",
            "Recall: 0.79\n",
            "F1-score: 0.80\n",
            "Accuracy: 0.79\n"
          ]
        },
        {
          "name": "stderr",
          "output_type": "stream",
          "text": [
            "/var/folders/qn/wj4_7b6s15b8h1mjnbzrfwyryqk4j8/T/ipykernel_78837/3365982749.py:22: TqdmDeprecationWarning: This function will be removed in tqdm==5.0.0\n",
            "Please use `tqdm.notebook.tqdm` instead of `tqdm.tqdm_notebook`\n",
            "  for images, labels in tqdm_notebook(train_loader):\n"
          ]
        },
        {
          "data": {
            "application/vnd.jupyter.widget-view+json": {
              "model_id": "6d98a1bc88db4ef988473a3b16158a9f",
              "version_major": 2,
              "version_minor": 0
            },
            "text/plain": [
              "  0%|          | 0/4 [00:00<?, ?it/s]"
            ]
          },
          "metadata": {},
          "output_type": "display_data"
        },
        {
          "name": "stdout",
          "output_type": "stream",
          "text": [
            "Epoch 19/80, Loss: 1.7748849391937256\n",
            "Precision: 0.74\n",
            "Recall: 0.62\n",
            "F1-score: 0.60\n",
            "Accuracy: 0.62\n"
          ]
        },
        {
          "name": "stderr",
          "output_type": "stream",
          "text": [
            "/var/folders/qn/wj4_7b6s15b8h1mjnbzrfwyryqk4j8/T/ipykernel_78837/3365982749.py:22: TqdmDeprecationWarning: This function will be removed in tqdm==5.0.0\n",
            "Please use `tqdm.notebook.tqdm` instead of `tqdm.tqdm_notebook`\n",
            "  for images, labels in tqdm_notebook(train_loader):\n"
          ]
        },
        {
          "data": {
            "application/vnd.jupyter.widget-view+json": {
              "model_id": "4a7a408374224e40a153e5fbbe0bf7cf",
              "version_major": 2,
              "version_minor": 0
            },
            "text/plain": [
              "  0%|          | 0/4 [00:00<?, ?it/s]"
            ]
          },
          "metadata": {},
          "output_type": "display_data"
        },
        {
          "name": "stdout",
          "output_type": "stream",
          "text": [
            "Epoch 20/80, Loss: 1.7874232530593872\n",
            "Precision: 0.57\n",
            "Recall: 0.53\n",
            "F1-score: 0.47\n",
            "Accuracy: 0.53\n"
          ]
        },
        {
          "name": "stderr",
          "output_type": "stream",
          "text": [
            "/opt/homebrew/lib/python3.11/site-packages/sklearn/metrics/_classification.py:1344: UndefinedMetricWarning: Precision is ill-defined and being set to 0.0 in labels with no predicted samples. Use `zero_division` parameter to control this behavior.\n",
            "  _warn_prf(average, modifier, msg_start, len(result))\n",
            "/var/folders/qn/wj4_7b6s15b8h1mjnbzrfwyryqk4j8/T/ipykernel_78837/3365982749.py:22: TqdmDeprecationWarning: This function will be removed in tqdm==5.0.0\n",
            "Please use `tqdm.notebook.tqdm` instead of `tqdm.tqdm_notebook`\n",
            "  for images, labels in tqdm_notebook(train_loader):\n"
          ]
        },
        {
          "data": {
            "application/vnd.jupyter.widget-view+json": {
              "model_id": "a10cfe20490c4d0c95de3f9a73823d13",
              "version_major": 2,
              "version_minor": 0
            },
            "text/plain": [
              "  0%|          | 0/4 [00:00<?, ?it/s]"
            ]
          },
          "metadata": {},
          "output_type": "display_data"
        },
        {
          "name": "stdout",
          "output_type": "stream",
          "text": [
            "Epoch 21/80, Loss: 1.7785285711288452\n",
            "Precision: 0.80\n",
            "Recall: 0.71\n",
            "F1-score: 0.67\n",
            "Accuracy: 0.71\n"
          ]
        },
        {
          "name": "stderr",
          "output_type": "stream",
          "text": [
            "/var/folders/qn/wj4_7b6s15b8h1mjnbzrfwyryqk4j8/T/ipykernel_78837/3365982749.py:22: TqdmDeprecationWarning: This function will be removed in tqdm==5.0.0\n",
            "Please use `tqdm.notebook.tqdm` instead of `tqdm.tqdm_notebook`\n",
            "  for images, labels in tqdm_notebook(train_loader):\n"
          ]
        },
        {
          "data": {
            "application/vnd.jupyter.widget-view+json": {
              "model_id": "7978930709464de4b8d4969469371da6",
              "version_major": 2,
              "version_minor": 0
            },
            "text/plain": [
              "  0%|          | 0/4 [00:00<?, ?it/s]"
            ]
          },
          "metadata": {},
          "output_type": "display_data"
        },
        {
          "name": "stdout",
          "output_type": "stream",
          "text": [
            "Epoch 22/80, Loss: 1.8003644943237305\n",
            "Precision: 0.90\n",
            "Recall: 0.80\n",
            "F1-score: 0.82\n",
            "Accuracy: 0.80\n"
          ]
        },
        {
          "name": "stderr",
          "output_type": "stream",
          "text": [
            "/var/folders/qn/wj4_7b6s15b8h1mjnbzrfwyryqk4j8/T/ipykernel_78837/3365982749.py:22: TqdmDeprecationWarning: This function will be removed in tqdm==5.0.0\n",
            "Please use `tqdm.notebook.tqdm` instead of `tqdm.tqdm_notebook`\n",
            "  for images, labels in tqdm_notebook(train_loader):\n"
          ]
        },
        {
          "data": {
            "application/vnd.jupyter.widget-view+json": {
              "model_id": "cb9d55e96ad442c3a9548e632a1bd0ea",
              "version_major": 2,
              "version_minor": 0
            },
            "text/plain": [
              "  0%|          | 0/4 [00:00<?, ?it/s]"
            ]
          },
          "metadata": {},
          "output_type": "display_data"
        },
        {
          "name": "stdout",
          "output_type": "stream",
          "text": [
            "Epoch 23/80, Loss: 1.7822134494781494\n",
            "Precision: 0.85\n",
            "Recall: 0.80\n",
            "F1-score: 0.81\n",
            "Accuracy: 0.80\n"
          ]
        },
        {
          "name": "stderr",
          "output_type": "stream",
          "text": [
            "/var/folders/qn/wj4_7b6s15b8h1mjnbzrfwyryqk4j8/T/ipykernel_78837/3365982749.py:22: TqdmDeprecationWarning: This function will be removed in tqdm==5.0.0\n",
            "Please use `tqdm.notebook.tqdm` instead of `tqdm.tqdm_notebook`\n",
            "  for images, labels in tqdm_notebook(train_loader):\n"
          ]
        },
        {
          "data": {
            "application/vnd.jupyter.widget-view+json": {
              "model_id": "b73d169978874273bc4a3defe10c99c5",
              "version_major": 2,
              "version_minor": 0
            },
            "text/plain": [
              "  0%|          | 0/4 [00:00<?, ?it/s]"
            ]
          },
          "metadata": {},
          "output_type": "display_data"
        },
        {
          "name": "stdout",
          "output_type": "stream",
          "text": [
            "Epoch 24/80, Loss: 1.7780746221542358\n",
            "Precision: 0.74\n",
            "Recall: 0.60\n",
            "F1-score: 0.61\n",
            "Accuracy: 0.60\n"
          ]
        },
        {
          "name": "stderr",
          "output_type": "stream",
          "text": [
            "/var/folders/qn/wj4_7b6s15b8h1mjnbzrfwyryqk4j8/T/ipykernel_78837/3365982749.py:22: TqdmDeprecationWarning: This function will be removed in tqdm==5.0.0\n",
            "Please use `tqdm.notebook.tqdm` instead of `tqdm.tqdm_notebook`\n",
            "  for images, labels in tqdm_notebook(train_loader):\n"
          ]
        },
        {
          "data": {
            "application/vnd.jupyter.widget-view+json": {
              "model_id": "530673143b1749378c4a412806d6ab75",
              "version_major": 2,
              "version_minor": 0
            },
            "text/plain": [
              "  0%|          | 0/4 [00:00<?, ?it/s]"
            ]
          },
          "metadata": {},
          "output_type": "display_data"
        },
        {
          "name": "stdout",
          "output_type": "stream",
          "text": [
            "Epoch 25/80, Loss: 1.782075047492981\n",
            "Precision: 0.67\n",
            "Recall: 0.55\n",
            "F1-score: 0.54\n",
            "Accuracy: 0.55\n"
          ]
        },
        {
          "name": "stderr",
          "output_type": "stream",
          "text": [
            "/var/folders/qn/wj4_7b6s15b8h1mjnbzrfwyryqk4j8/T/ipykernel_78837/3365982749.py:22: TqdmDeprecationWarning: This function will be removed in tqdm==5.0.0\n",
            "Please use `tqdm.notebook.tqdm` instead of `tqdm.tqdm_notebook`\n",
            "  for images, labels in tqdm_notebook(train_loader):\n"
          ]
        },
        {
          "data": {
            "application/vnd.jupyter.widget-view+json": {
              "model_id": "6dea3d75556e40afbf193268cb9b4174",
              "version_major": 2,
              "version_minor": 0
            },
            "text/plain": [
              "  0%|          | 0/4 [00:00<?, ?it/s]"
            ]
          },
          "metadata": {},
          "output_type": "display_data"
        },
        {
          "name": "stdout",
          "output_type": "stream",
          "text": [
            "Epoch 26/80, Loss: 1.7821346521377563\n",
            "Precision: 0.46\n",
            "Recall: 0.39\n",
            "F1-score: 0.33\n",
            "Accuracy: 0.39\n"
          ]
        },
        {
          "name": "stderr",
          "output_type": "stream",
          "text": [
            "/opt/homebrew/lib/python3.11/site-packages/sklearn/metrics/_classification.py:1344: UndefinedMetricWarning: Precision is ill-defined and being set to 0.0 in labels with no predicted samples. Use `zero_division` parameter to control this behavior.\n",
            "  _warn_prf(average, modifier, msg_start, len(result))\n",
            "/var/folders/qn/wj4_7b6s15b8h1mjnbzrfwyryqk4j8/T/ipykernel_78837/3365982749.py:22: TqdmDeprecationWarning: This function will be removed in tqdm==5.0.0\n",
            "Please use `tqdm.notebook.tqdm` instead of `tqdm.tqdm_notebook`\n",
            "  for images, labels in tqdm_notebook(train_loader):\n"
          ]
        },
        {
          "data": {
            "application/vnd.jupyter.widget-view+json": {
              "model_id": "d3e6a67e1d774e86adc722af9ead7daf",
              "version_major": 2,
              "version_minor": 0
            },
            "text/plain": [
              "  0%|          | 0/4 [00:00<?, ?it/s]"
            ]
          },
          "metadata": {},
          "output_type": "display_data"
        },
        {
          "name": "stdout",
          "output_type": "stream",
          "text": [
            "Epoch 27/80, Loss: 1.787927508354187\n",
            "Precision: 0.69\n",
            "Recall: 0.66\n",
            "F1-score: 0.64\n",
            "Accuracy: 0.66\n"
          ]
        },
        {
          "name": "stderr",
          "output_type": "stream",
          "text": [
            "/var/folders/qn/wj4_7b6s15b8h1mjnbzrfwyryqk4j8/T/ipykernel_78837/3365982749.py:22: TqdmDeprecationWarning: This function will be removed in tqdm==5.0.0\n",
            "Please use `tqdm.notebook.tqdm` instead of `tqdm.tqdm_notebook`\n",
            "  for images, labels in tqdm_notebook(train_loader):\n"
          ]
        },
        {
          "data": {
            "application/vnd.jupyter.widget-view+json": {
              "model_id": "dd48460f9d354984861bf25c964c0562",
              "version_major": 2,
              "version_minor": 0
            },
            "text/plain": [
              "  0%|          | 0/4 [00:00<?, ?it/s]"
            ]
          },
          "metadata": {},
          "output_type": "display_data"
        },
        {
          "name": "stdout",
          "output_type": "stream",
          "text": [
            "Epoch 28/80, Loss: 1.7781058549880981\n",
            "Precision: 0.85\n",
            "Recall: 0.80\n",
            "F1-score: 0.80\n",
            "Accuracy: 0.80\n"
          ]
        },
        {
          "name": "stderr",
          "output_type": "stream",
          "text": [
            "/var/folders/qn/wj4_7b6s15b8h1mjnbzrfwyryqk4j8/T/ipykernel_78837/3365982749.py:22: TqdmDeprecationWarning: This function will be removed in tqdm==5.0.0\n",
            "Please use `tqdm.notebook.tqdm` instead of `tqdm.tqdm_notebook`\n",
            "  for images, labels in tqdm_notebook(train_loader):\n"
          ]
        },
        {
          "data": {
            "application/vnd.jupyter.widget-view+json": {
              "model_id": "accdadabff2c423ab32f79ee1403c130",
              "version_major": 2,
              "version_minor": 0
            },
            "text/plain": [
              "  0%|          | 0/4 [00:00<?, ?it/s]"
            ]
          },
          "metadata": {},
          "output_type": "display_data"
        },
        {
          "name": "stdout",
          "output_type": "stream",
          "text": [
            "Epoch 29/80, Loss: 1.77950119972229\n",
            "Precision: 0.87\n",
            "Recall: 0.83\n",
            "F1-score: 0.83\n",
            "Accuracy: 0.83\n"
          ]
        },
        {
          "name": "stderr",
          "output_type": "stream",
          "text": [
            "/var/folders/qn/wj4_7b6s15b8h1mjnbzrfwyryqk4j8/T/ipykernel_78837/3365982749.py:22: TqdmDeprecationWarning: This function will be removed in tqdm==5.0.0\n",
            "Please use `tqdm.notebook.tqdm` instead of `tqdm.tqdm_notebook`\n",
            "  for images, labels in tqdm_notebook(train_loader):\n"
          ]
        },
        {
          "data": {
            "application/vnd.jupyter.widget-view+json": {
              "model_id": "3de9588345634deb837098befb6864fa",
              "version_major": 2,
              "version_minor": 0
            },
            "text/plain": [
              "  0%|          | 0/4 [00:00<?, ?it/s]"
            ]
          },
          "metadata": {},
          "output_type": "display_data"
        },
        {
          "name": "stdout",
          "output_type": "stream",
          "text": [
            "Epoch 30/80, Loss: 1.794848918914795\n",
            "Precision: 0.77\n",
            "Recall: 0.73\n",
            "F1-score: 0.70\n",
            "Accuracy: 0.73\n"
          ]
        },
        {
          "name": "stderr",
          "output_type": "stream",
          "text": [
            "/var/folders/qn/wj4_7b6s15b8h1mjnbzrfwyryqk4j8/T/ipykernel_78837/3365982749.py:22: TqdmDeprecationWarning: This function will be removed in tqdm==5.0.0\n",
            "Please use `tqdm.notebook.tqdm` instead of `tqdm.tqdm_notebook`\n",
            "  for images, labels in tqdm_notebook(train_loader):\n"
          ]
        },
        {
          "data": {
            "application/vnd.jupyter.widget-view+json": {
              "model_id": "88495c1f2ad44b1ab7a281be445577f0",
              "version_major": 2,
              "version_minor": 0
            },
            "text/plain": [
              "  0%|          | 0/4 [00:00<?, ?it/s]"
            ]
          },
          "metadata": {},
          "output_type": "display_data"
        },
        {
          "name": "stdout",
          "output_type": "stream",
          "text": [
            "Epoch 31/80, Loss: 1.7790459394454956\n",
            "Precision: 0.80\n",
            "Recall: 0.77\n",
            "F1-score: 0.77\n",
            "Accuracy: 0.77\n"
          ]
        },
        {
          "name": "stderr",
          "output_type": "stream",
          "text": [
            "/var/folders/qn/wj4_7b6s15b8h1mjnbzrfwyryqk4j8/T/ipykernel_78837/3365982749.py:22: TqdmDeprecationWarning: This function will be removed in tqdm==5.0.0\n",
            "Please use `tqdm.notebook.tqdm` instead of `tqdm.tqdm_notebook`\n",
            "  for images, labels in tqdm_notebook(train_loader):\n"
          ]
        },
        {
          "data": {
            "application/vnd.jupyter.widget-view+json": {
              "model_id": "6ac97f7d680e4e00acd261e88f04d1d1",
              "version_major": 2,
              "version_minor": 0
            },
            "text/plain": [
              "  0%|          | 0/4 [00:00<?, ?it/s]"
            ]
          },
          "metadata": {},
          "output_type": "display_data"
        },
        {
          "name": "stdout",
          "output_type": "stream",
          "text": [
            "Epoch 32/80, Loss: 1.7740669250488281\n",
            "Precision: 0.81\n",
            "Recall: 0.74\n",
            "F1-score: 0.73\n",
            "Accuracy: 0.74\n"
          ]
        },
        {
          "name": "stderr",
          "output_type": "stream",
          "text": [
            "/var/folders/qn/wj4_7b6s15b8h1mjnbzrfwyryqk4j8/T/ipykernel_78837/3365982749.py:22: TqdmDeprecationWarning: This function will be removed in tqdm==5.0.0\n",
            "Please use `tqdm.notebook.tqdm` instead of `tqdm.tqdm_notebook`\n",
            "  for images, labels in tqdm_notebook(train_loader):\n"
          ]
        },
        {
          "data": {
            "application/vnd.jupyter.widget-view+json": {
              "model_id": "606d3e3ae5814d638b1942e0fbb28574",
              "version_major": 2,
              "version_minor": 0
            },
            "text/plain": [
              "  0%|          | 0/4 [00:00<?, ?it/s]"
            ]
          },
          "metadata": {},
          "output_type": "display_data"
        },
        {
          "name": "stdout",
          "output_type": "stream",
          "text": [
            "Epoch 33/80, Loss: 1.7897039651870728\n",
            "Precision: 0.84\n",
            "Recall: 0.76\n",
            "F1-score: 0.76\n",
            "Accuracy: 0.76\n"
          ]
        },
        {
          "name": "stderr",
          "output_type": "stream",
          "text": [
            "/var/folders/qn/wj4_7b6s15b8h1mjnbzrfwyryqk4j8/T/ipykernel_78837/3365982749.py:22: TqdmDeprecationWarning: This function will be removed in tqdm==5.0.0\n",
            "Please use `tqdm.notebook.tqdm` instead of `tqdm.tqdm_notebook`\n",
            "  for images, labels in tqdm_notebook(train_loader):\n"
          ]
        },
        {
          "data": {
            "application/vnd.jupyter.widget-view+json": {
              "model_id": "74936b0aa72a4d94841f0328cc6bec34",
              "version_major": 2,
              "version_minor": 0
            },
            "text/plain": [
              "  0%|          | 0/4 [00:00<?, ?it/s]"
            ]
          },
          "metadata": {},
          "output_type": "display_data"
        },
        {
          "name": "stdout",
          "output_type": "stream",
          "text": [
            "Epoch 34/80, Loss: 1.7756924629211426\n",
            "Precision: 0.90\n",
            "Recall: 0.86\n",
            "F1-score: 0.86\n",
            "Accuracy: 0.86\n"
          ]
        },
        {
          "name": "stderr",
          "output_type": "stream",
          "text": [
            "/var/folders/qn/wj4_7b6s15b8h1mjnbzrfwyryqk4j8/T/ipykernel_78837/3365982749.py:22: TqdmDeprecationWarning: This function will be removed in tqdm==5.0.0\n",
            "Please use `tqdm.notebook.tqdm` instead of `tqdm.tqdm_notebook`\n",
            "  for images, labels in tqdm_notebook(train_loader):\n"
          ]
        },
        {
          "data": {
            "application/vnd.jupyter.widget-view+json": {
              "model_id": "b2503fe444384277bcbae4fe17cef3e2",
              "version_major": 2,
              "version_minor": 0
            },
            "text/plain": [
              "  0%|          | 0/4 [00:00<?, ?it/s]"
            ]
          },
          "metadata": {},
          "output_type": "display_data"
        },
        {
          "name": "stdout",
          "output_type": "stream",
          "text": [
            "Epoch 35/80, Loss: 1.7939090728759766\n",
            "Precision: 0.67\n",
            "Recall: 0.52\n",
            "F1-score: 0.53\n",
            "Accuracy: 0.52\n"
          ]
        },
        {
          "name": "stderr",
          "output_type": "stream",
          "text": [
            "/var/folders/qn/wj4_7b6s15b8h1mjnbzrfwyryqk4j8/T/ipykernel_78837/3365982749.py:22: TqdmDeprecationWarning: This function will be removed in tqdm==5.0.0\n",
            "Please use `tqdm.notebook.tqdm` instead of `tqdm.tqdm_notebook`\n",
            "  for images, labels in tqdm_notebook(train_loader):\n"
          ]
        },
        {
          "data": {
            "application/vnd.jupyter.widget-view+json": {
              "model_id": "93acdcd7a09543deb07420eab8c71e91",
              "version_major": 2,
              "version_minor": 0
            },
            "text/plain": [
              "  0%|          | 0/4 [00:00<?, ?it/s]"
            ]
          },
          "metadata": {},
          "output_type": "display_data"
        },
        {
          "name": "stdout",
          "output_type": "stream",
          "text": [
            "Epoch 36/80, Loss: 1.781173825263977\n"
          ]
        }
      ],
      "source": [
        "num_epochs = 80\n",
        "\n",
        "# wandb.init(\n",
        "#     project=\"Gagarin-Hack\",\n",
        "\n",
        "#     config={\n",
        "#     \"learning_rate\": lr,\n",
        "#     \"batch_size\": batch_size,\n",
        "#     \"epochs\": num_epochs,\n",
        "#     }\n",
        "# )\n",
        "\n",
        "metrics_dict = {\n",
        "    'Precision':[],\n",
        "    'Recall':[],\n",
        "    'F1-score':[],\n",
        "    'Accuracy':[],\n",
        "}\n",
        "\n",
        "for epoch in range(num_epochs):\n",
        "    model.train()\n",
        "    for images, labels in tqdm_notebook(train_loader):\n",
        "        images, labels = images.to(device), labels.to(device)\n",
        "\n",
        "        optimizer.zero_grad()\n",
        "\n",
        "        outputs = model(images)\n",
        "        loss = criterion(outputs, labels)\n",
        "        loss.backward()\n",
        "        optimizer.step()\n",
        "\n",
        "    print(f'Epoch {epoch+1}/{num_epochs}, Loss: {loss.item()}')\n",
        "\n",
        "    # Оценка модели на тестовом наборе данных\n",
        "    model.eval()\n",
        "    predictions = []\n",
        "    true_labels = []\n",
        "\n",
        "    with torch.no_grad():\n",
        "        for images, labels in test_loader:\n",
        "            images, labels = images.to(device), labels.to(device)\n",
        "            outputs = model(images)\n",
        "            _, predicted = torch.max(outputs.data, 1)\n",
        "            predictions.extend(predicted.cpu().numpy())\n",
        "            true_labels.extend(labels.cpu().numpy())\n",
        "\n",
        "    precision = precision_score(true_labels, predictions, average='weighted')\n",
        "    recall = recall_score(true_labels, predictions, average='weighted')\n",
        "    f1 = f1_score(true_labels, predictions, average='weighted')\n",
        "    accuracy = accuracy_score(true_labels, predictions)\n",
        "\n",
        "\n",
        "    print(f'Precision: {precision:.2f}')\n",
        "    print(f'Recall: {recall:.2f}')\n",
        "    print(f'F1-score: {f1:.2f}')\n",
        "    print(f'Accuracy: {accuracy:.2f}')\n",
        "    metrics_dict['Precision'].append(precision)\n",
        "    metrics_dict['Recall'].append(recall)\n",
        "    metrics_dict['F1-score'].append(f1)\n",
        "    metrics_dict['Accuracy'].append(accuracy)\n",
        "\n",
        "    save_model(model, f'./weights/tmp_weights_{epoch}_{precision:.2f}_{recall:.2f}_{f1:.2f}_{accuracy:.2f}.pt')"
      ]
    },
    {
      "cell_type": "code",
      "execution_count": null,
      "metadata": {
        "id": "1O_M7gG2E2y0"
      },
      "outputs": [],
      "source": [
        "model.eval()"
      ]
    },
    {
      "cell_type": "code",
      "execution_count": null,
      "metadata": {
        "colab": {
          "base_uri": "https://localhost:8080/",
          "height": 301
        },
        "id": "Jwt9OZ5iFRRM",
        "outputId": "d127a812-b6e4-48f0-eeb5-7f5193ad97fe"
      },
      "outputs": [],
      "source": [
        "img = Image.open('/content/driver_example.jpeg')\n",
        "transformed_img = transform(img)"
      ]
    },
    {
      "cell_type": "code",
      "execution_count": null,
      "metadata": {
        "colab": {
          "base_uri": "https://localhost:8080/"
        },
        "id": "Vvlne5xXNXNy",
        "outputId": "239c87a5-58b2-4668-e0c0-67b25dcac025"
      },
      "outputs": [],
      "source": [
        "idx_to_class"
      ]
    },
    {
      "cell_type": "code",
      "execution_count": null,
      "metadata": {
        "colab": {
          "base_uri": "https://localhost:8080/"
        },
        "id": "YKVI7JOQFYZg",
        "outputId": "b6471c09-68d4-4c9f-fa60-02e7b395db4b"
      },
      "outputs": [],
      "source": [
        "model(transformed_img.to(device).unsqueeze(0))"
      ]
    },
    {
      "cell_type": "code",
      "execution_count": null,
      "metadata": {
        "id": "pNBOUnVUHIDx"
      },
      "outputs": [],
      "source": [
        "torch.save(model.state_dict(), 'v1_weights.pt')"
      ]
    },
    {
      "cell_type": "code",
      "execution_count": null,
      "metadata": {
        "id": "uccke4VOQy-f"
      },
      "outputs": [],
      "source": []
    }
  ],
  "metadata": {
    "accelerator": "GPU",
    "colab": {
      "gpuType": "T4",
      "provenance": []
    },
    "kernelspec": {
      "display_name": "Python 3",
      "name": "python3"
    },
    "language_info": {
      "codemirror_mode": {
        "name": "ipython",
        "version": 3
      },
      "file_extension": ".py",
      "mimetype": "text/x-python",
      "name": "python",
      "nbconvert_exporter": "python",
      "pygments_lexer": "ipython3",
      "version": "3.11.2"
    },
    "widgets": {
      "application/vnd.jupyter.widget-state+json": {
        "61fc9c3719b84e10a2eb100dff72f5b6": {
          "model_module": "@jupyter-widgets/base",
          "model_module_version": "1.2.0",
          "model_name": "LayoutModel",
          "state": {
            "_model_module": "@jupyter-widgets/base",
            "_model_module_version": "1.2.0",
            "_model_name": "LayoutModel",
            "_view_count": null,
            "_view_module": "@jupyter-widgets/base",
            "_view_module_version": "1.2.0",
            "_view_name": "LayoutView",
            "align_content": null,
            "align_items": null,
            "align_self": null,
            "border": null,
            "bottom": null,
            "display": null,
            "flex": null,
            "flex_flow": null,
            "grid_area": null,
            "grid_auto_columns": null,
            "grid_auto_flow": null,
            "grid_auto_rows": null,
            "grid_column": null,
            "grid_gap": null,
            "grid_row": null,
            "grid_template_areas": null,
            "grid_template_columns": null,
            "grid_template_rows": null,
            "height": null,
            "justify_content": null,
            "justify_items": null,
            "left": null,
            "margin": null,
            "max_height": null,
            "max_width": null,
            "min_height": null,
            "min_width": null,
            "object_fit": null,
            "object_position": null,
            "order": null,
            "overflow": null,
            "overflow_x": null,
            "overflow_y": null,
            "padding": null,
            "right": null,
            "top": null,
            "visibility": null,
            "width": null
          }
        },
        "6429a4fc10a343a18758aafd642d53a8": {
          "model_module": "@jupyter-widgets/base",
          "model_module_version": "1.2.0",
          "model_name": "LayoutModel",
          "state": {
            "_model_module": "@jupyter-widgets/base",
            "_model_module_version": "1.2.0",
            "_model_name": "LayoutModel",
            "_view_count": null,
            "_view_module": "@jupyter-widgets/base",
            "_view_module_version": "1.2.0",
            "_view_name": "LayoutView",
            "align_content": null,
            "align_items": null,
            "align_self": null,
            "border": null,
            "bottom": null,
            "display": null,
            "flex": null,
            "flex_flow": null,
            "grid_area": null,
            "grid_auto_columns": null,
            "grid_auto_flow": null,
            "grid_auto_rows": null,
            "grid_column": null,
            "grid_gap": null,
            "grid_row": null,
            "grid_template_areas": null,
            "grid_template_columns": null,
            "grid_template_rows": null,
            "height": null,
            "justify_content": null,
            "justify_items": null,
            "left": null,
            "margin": null,
            "max_height": null,
            "max_width": null,
            "min_height": null,
            "min_width": null,
            "object_fit": null,
            "object_position": null,
            "order": null,
            "overflow": null,
            "overflow_x": null,
            "overflow_y": null,
            "padding": null,
            "right": null,
            "top": null,
            "visibility": null,
            "width": null
          }
        },
        "8be5a9a4678f44fd90f7ddb3f6596acd": {
          "model_module": "@jupyter-widgets/controls",
          "model_module_version": "1.5.0",
          "model_name": "DescriptionStyleModel",
          "state": {
            "_model_module": "@jupyter-widgets/controls",
            "_model_module_version": "1.5.0",
            "_model_name": "DescriptionStyleModel",
            "_view_count": null,
            "_view_module": "@jupyter-widgets/base",
            "_view_module_version": "1.2.0",
            "_view_name": "StyleView",
            "description_width": ""
          }
        },
        "c5071a3c90424832bf090ac57afcb710": {
          "model_module": "@jupyter-widgets/controls",
          "model_module_version": "1.5.0",
          "model_name": "FloatProgressModel",
          "state": {
            "_dom_classes": [],
            "_model_module": "@jupyter-widgets/controls",
            "_model_module_version": "1.5.0",
            "_model_name": "FloatProgressModel",
            "_view_count": null,
            "_view_module": "@jupyter-widgets/controls",
            "_view_module_version": "1.5.0",
            "_view_name": "ProgressView",
            "bar_style": "",
            "description": "",
            "description_tooltip": null,
            "layout": "IPY_MODEL_fc20fa190a97437da1dc19681eaa7f07",
            "max": 1,
            "min": 0,
            "orientation": "horizontal",
            "style": "IPY_MODEL_e8679b954d1542deb40c116a9a83cc6e",
            "value": 1
          }
        },
        "dff3af19c9684a7aad296f0ca020f299": {
          "model_module": "@jupyter-widgets/controls",
          "model_module_version": "1.5.0",
          "model_name": "VBoxModel",
          "state": {
            "_dom_classes": [],
            "_model_module": "@jupyter-widgets/controls",
            "_model_module_version": "1.5.0",
            "_model_name": "VBoxModel",
            "_view_count": null,
            "_view_module": "@jupyter-widgets/controls",
            "_view_module_version": "1.5.0",
            "_view_name": "VBoxView",
            "box_style": "",
            "children": [
              "IPY_MODEL_fd41b1446819442ba7028f521650fa00",
              "IPY_MODEL_c5071a3c90424832bf090ac57afcb710"
            ],
            "layout": "IPY_MODEL_6429a4fc10a343a18758aafd642d53a8"
          }
        },
        "e8679b954d1542deb40c116a9a83cc6e": {
          "model_module": "@jupyter-widgets/controls",
          "model_module_version": "1.5.0",
          "model_name": "ProgressStyleModel",
          "state": {
            "_model_module": "@jupyter-widgets/controls",
            "_model_module_version": "1.5.0",
            "_model_name": "ProgressStyleModel",
            "_view_count": null,
            "_view_module": "@jupyter-widgets/base",
            "_view_module_version": "1.2.0",
            "_view_name": "StyleView",
            "bar_color": null,
            "description_width": ""
          }
        },
        "fc20fa190a97437da1dc19681eaa7f07": {
          "model_module": "@jupyter-widgets/base",
          "model_module_version": "1.2.0",
          "model_name": "LayoutModel",
          "state": {
            "_model_module": "@jupyter-widgets/base",
            "_model_module_version": "1.2.0",
            "_model_name": "LayoutModel",
            "_view_count": null,
            "_view_module": "@jupyter-widgets/base",
            "_view_module_version": "1.2.0",
            "_view_name": "LayoutView",
            "align_content": null,
            "align_items": null,
            "align_self": null,
            "border": null,
            "bottom": null,
            "display": null,
            "flex": null,
            "flex_flow": null,
            "grid_area": null,
            "grid_auto_columns": null,
            "grid_auto_flow": null,
            "grid_auto_rows": null,
            "grid_column": null,
            "grid_gap": null,
            "grid_row": null,
            "grid_template_areas": null,
            "grid_template_columns": null,
            "grid_template_rows": null,
            "height": null,
            "justify_content": null,
            "justify_items": null,
            "left": null,
            "margin": null,
            "max_height": null,
            "max_width": null,
            "min_height": null,
            "min_width": null,
            "object_fit": null,
            "object_position": null,
            "order": null,
            "overflow": null,
            "overflow_x": null,
            "overflow_y": null,
            "padding": null,
            "right": null,
            "top": null,
            "visibility": null,
            "width": null
          }
        },
        "fd41b1446819442ba7028f521650fa00": {
          "model_module": "@jupyter-widgets/controls",
          "model_module_version": "1.5.0",
          "model_name": "LabelModel",
          "state": {
            "_dom_classes": [],
            "_model_module": "@jupyter-widgets/controls",
            "_model_module_version": "1.5.0",
            "_model_name": "LabelModel",
            "_view_count": null,
            "_view_module": "@jupyter-widgets/controls",
            "_view_module_version": "1.5.0",
            "_view_name": "LabelView",
            "description": "",
            "description_tooltip": null,
            "layout": "IPY_MODEL_61fc9c3719b84e10a2eb100dff72f5b6",
            "placeholder": "​",
            "style": "IPY_MODEL_8be5a9a4678f44fd90f7ddb3f6596acd",
            "value": "0.011 MB of 0.011 MB uploaded\r"
          }
        }
      }
    }
  },
  "nbformat": 4,
  "nbformat_minor": 0
}
